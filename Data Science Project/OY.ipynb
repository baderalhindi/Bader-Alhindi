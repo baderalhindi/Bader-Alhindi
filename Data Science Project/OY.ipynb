{
 "cells": [
  {
   "cell_type": "code",
   "execution_count": 323,
   "id": "6944e1c9",
   "metadata": {},
   "outputs": [],
   "source": [
    "import pandas as pd"
   ]
  },
  {
   "cell_type": "code",
   "execution_count": 324,
   "id": "932d04b6",
   "metadata": {},
   "outputs": [],
   "source": [
    "ou_df=pd.read_csv('Data_Train.csv')"
   ]
  },
  {
   "cell_type": "code",
   "execution_count": 325,
   "id": "a3c0b8c5",
   "metadata": {},
   "outputs": [
    {
     "data": {
      "text/html": [
       "<div>\n",
       "<style scoped>\n",
       "    .dataframe tbody tr th:only-of-type {\n",
       "        vertical-align: middle;\n",
       "    }\n",
       "\n",
       "    .dataframe tbody tr th {\n",
       "        vertical-align: top;\n",
       "    }\n",
       "\n",
       "    .dataframe thead th {\n",
       "        text-align: right;\n",
       "    }\n",
       "</style>\n",
       "<table border=\"1\" class=\"dataframe\">\n",
       "  <thead>\n",
       "    <tr style=\"text-align: right;\">\n",
       "      <th></th>\n",
       "      <th>Airline</th>\n",
       "      <th>Date_of_Journey</th>\n",
       "      <th>Source</th>\n",
       "      <th>Destination</th>\n",
       "      <th>Route</th>\n",
       "      <th>Dep_Time</th>\n",
       "      <th>Arrival_Time</th>\n",
       "      <th>Duration</th>\n",
       "      <th>Total_Stops</th>\n",
       "      <th>Additional_Info</th>\n",
       "      <th>Price</th>\n",
       "    </tr>\n",
       "  </thead>\n",
       "  <tbody>\n",
       "    <tr>\n",
       "      <th>0</th>\n",
       "      <td>IndiGo</td>\n",
       "      <td>24/03/2019</td>\n",
       "      <td>Banglore</td>\n",
       "      <td>New Delhi</td>\n",
       "      <td>BLR ? DEL</td>\n",
       "      <td>22:20</td>\n",
       "      <td>01:10 22 Mar</td>\n",
       "      <td>2h 50m</td>\n",
       "      <td>non-stop</td>\n",
       "      <td>No info</td>\n",
       "      <td>3897</td>\n",
       "    </tr>\n",
       "    <tr>\n",
       "      <th>1</th>\n",
       "      <td>Air India</td>\n",
       "      <td>1/05/2019</td>\n",
       "      <td>Kolkata</td>\n",
       "      <td>Banglore</td>\n",
       "      <td>CCU ? IXR ? BBI ? BLR</td>\n",
       "      <td>05:50</td>\n",
       "      <td>13:15</td>\n",
       "      <td>7h 25m</td>\n",
       "      <td>2 stops</td>\n",
       "      <td>No info</td>\n",
       "      <td>7662</td>\n",
       "    </tr>\n",
       "    <tr>\n",
       "      <th>2</th>\n",
       "      <td>Jet Airways</td>\n",
       "      <td>9/06/2019</td>\n",
       "      <td>Delhi</td>\n",
       "      <td>Cochin</td>\n",
       "      <td>DEL ? LKO ? BOM ? COK</td>\n",
       "      <td>09:25</td>\n",
       "      <td>04:25 10 Jun</td>\n",
       "      <td>19h</td>\n",
       "      <td>2 stops</td>\n",
       "      <td>No info</td>\n",
       "      <td>13882</td>\n",
       "    </tr>\n",
       "    <tr>\n",
       "      <th>3</th>\n",
       "      <td>IndiGo</td>\n",
       "      <td>12/05/2019</td>\n",
       "      <td>Kolkata</td>\n",
       "      <td>Banglore</td>\n",
       "      <td>CCU ? NAG ? BLR</td>\n",
       "      <td>18:05</td>\n",
       "      <td>23:30</td>\n",
       "      <td>5h 25m</td>\n",
       "      <td>1 stop</td>\n",
       "      <td>No info</td>\n",
       "      <td>6218</td>\n",
       "    </tr>\n",
       "    <tr>\n",
       "      <th>4</th>\n",
       "      <td>IndiGo</td>\n",
       "      <td>01/03/2019</td>\n",
       "      <td>Banglore</td>\n",
       "      <td>New Delhi</td>\n",
       "      <td>BLR ? NAG ? DEL</td>\n",
       "      <td>16:50</td>\n",
       "      <td>21:35</td>\n",
       "      <td>4h 45m</td>\n",
       "      <td>1 stop</td>\n",
       "      <td>No info</td>\n",
       "      <td>13302</td>\n",
       "    </tr>\n",
       "    <tr>\n",
       "      <th>5</th>\n",
       "      <td>SpiceJet</td>\n",
       "      <td>24/06/2019</td>\n",
       "      <td>Kolkata</td>\n",
       "      <td>Banglore</td>\n",
       "      <td>CCU ? BLR</td>\n",
       "      <td>09:00</td>\n",
       "      <td>11:25</td>\n",
       "      <td>2h 25m</td>\n",
       "      <td>non-stop</td>\n",
       "      <td>No info</td>\n",
       "      <td>3873</td>\n",
       "    </tr>\n",
       "    <tr>\n",
       "      <th>6</th>\n",
       "      <td>Jet Airways</td>\n",
       "      <td>12/03/2019</td>\n",
       "      <td>Banglore</td>\n",
       "      <td>New Delhi</td>\n",
       "      <td>BLR ? BOM ? DEL</td>\n",
       "      <td>18:55</td>\n",
       "      <td>10:25 13 Mar</td>\n",
       "      <td>15h 30m</td>\n",
       "      <td>1 stop</td>\n",
       "      <td>In-flight meal not included</td>\n",
       "      <td>11087</td>\n",
       "    </tr>\n",
       "    <tr>\n",
       "      <th>7</th>\n",
       "      <td>Jet Airways</td>\n",
       "      <td>01/03/2019</td>\n",
       "      <td>Banglore</td>\n",
       "      <td>New Delhi</td>\n",
       "      <td>BLR ? BOM ? DEL</td>\n",
       "      <td>08:00</td>\n",
       "      <td>05:05 02 Mar</td>\n",
       "      <td>21h 5m</td>\n",
       "      <td>1 stop</td>\n",
       "      <td>No info</td>\n",
       "      <td>22270</td>\n",
       "    </tr>\n",
       "    <tr>\n",
       "      <th>8</th>\n",
       "      <td>Jet Airways</td>\n",
       "      <td>12/03/2019</td>\n",
       "      <td>Banglore</td>\n",
       "      <td>New Delhi</td>\n",
       "      <td>BLR ? BOM ? DEL</td>\n",
       "      <td>08:55</td>\n",
       "      <td>10:25 13 Mar</td>\n",
       "      <td>25h 30m</td>\n",
       "      <td>1 stop</td>\n",
       "      <td>In-flight meal not included</td>\n",
       "      <td>11087</td>\n",
       "    </tr>\n",
       "    <tr>\n",
       "      <th>9</th>\n",
       "      <td>Multiple carriers</td>\n",
       "      <td>27/05/2019</td>\n",
       "      <td>Delhi</td>\n",
       "      <td>Cochin</td>\n",
       "      <td>DEL ? BOM ? COK</td>\n",
       "      <td>11:25</td>\n",
       "      <td>19:15</td>\n",
       "      <td>7h 50m</td>\n",
       "      <td>1 stop</td>\n",
       "      <td>No info</td>\n",
       "      <td>8625</td>\n",
       "    </tr>\n",
       "    <tr>\n",
       "      <th>10</th>\n",
       "      <td>Air India</td>\n",
       "      <td>1/06/2019</td>\n",
       "      <td>Delhi</td>\n",
       "      <td>Cochin</td>\n",
       "      <td>DEL ? BLR ? COK</td>\n",
       "      <td>09:45</td>\n",
       "      <td>23:00</td>\n",
       "      <td>13h 15m</td>\n",
       "      <td>1 stop</td>\n",
       "      <td>No info</td>\n",
       "      <td>8907</td>\n",
       "    </tr>\n",
       "    <tr>\n",
       "      <th>11</th>\n",
       "      <td>IndiGo</td>\n",
       "      <td>18/04/2019</td>\n",
       "      <td>Kolkata</td>\n",
       "      <td>Banglore</td>\n",
       "      <td>CCU ? BLR</td>\n",
       "      <td>20:20</td>\n",
       "      <td>22:55</td>\n",
       "      <td>2h 35m</td>\n",
       "      <td>non-stop</td>\n",
       "      <td>No info</td>\n",
       "      <td>4174</td>\n",
       "    </tr>\n",
       "    <tr>\n",
       "      <th>12</th>\n",
       "      <td>Air India</td>\n",
       "      <td>24/06/2019</td>\n",
       "      <td>Chennai</td>\n",
       "      <td>Kolkata</td>\n",
       "      <td>MAA ? CCU</td>\n",
       "      <td>11:40</td>\n",
       "      <td>13:55</td>\n",
       "      <td>2h 15m</td>\n",
       "      <td>non-stop</td>\n",
       "      <td>No info</td>\n",
       "      <td>4667</td>\n",
       "    </tr>\n",
       "    <tr>\n",
       "      <th>13</th>\n",
       "      <td>Jet Airways</td>\n",
       "      <td>9/05/2019</td>\n",
       "      <td>Kolkata</td>\n",
       "      <td>Banglore</td>\n",
       "      <td>CCU ? BOM ? BLR</td>\n",
       "      <td>21:10</td>\n",
       "      <td>09:20 10 May</td>\n",
       "      <td>12h 10m</td>\n",
       "      <td>1 stop</td>\n",
       "      <td>In-flight meal not included</td>\n",
       "      <td>9663</td>\n",
       "    </tr>\n",
       "    <tr>\n",
       "      <th>14</th>\n",
       "      <td>IndiGo</td>\n",
       "      <td>24/04/2019</td>\n",
       "      <td>Kolkata</td>\n",
       "      <td>Banglore</td>\n",
       "      <td>CCU ? BLR</td>\n",
       "      <td>17:15</td>\n",
       "      <td>19:50</td>\n",
       "      <td>2h 35m</td>\n",
       "      <td>non-stop</td>\n",
       "      <td>No info</td>\n",
       "      <td>4804</td>\n",
       "    </tr>\n",
       "  </tbody>\n",
       "</table>\n",
       "</div>"
      ],
      "text/plain": [
       "              Airline Date_of_Journey    Source Destination  \\\n",
       "0              IndiGo      24/03/2019  Banglore   New Delhi   \n",
       "1           Air India       1/05/2019   Kolkata    Banglore   \n",
       "2         Jet Airways       9/06/2019     Delhi      Cochin   \n",
       "3              IndiGo      12/05/2019   Kolkata    Banglore   \n",
       "4              IndiGo      01/03/2019  Banglore   New Delhi   \n",
       "5            SpiceJet      24/06/2019   Kolkata    Banglore   \n",
       "6         Jet Airways      12/03/2019  Banglore   New Delhi   \n",
       "7         Jet Airways      01/03/2019  Banglore   New Delhi   \n",
       "8         Jet Airways      12/03/2019  Banglore   New Delhi   \n",
       "9   Multiple carriers      27/05/2019     Delhi      Cochin   \n",
       "10          Air India       1/06/2019     Delhi      Cochin   \n",
       "11             IndiGo      18/04/2019   Kolkata    Banglore   \n",
       "12          Air India      24/06/2019   Chennai     Kolkata   \n",
       "13        Jet Airways       9/05/2019   Kolkata    Banglore   \n",
       "14             IndiGo      24/04/2019   Kolkata    Banglore   \n",
       "\n",
       "                    Route Dep_Time  Arrival_Time Duration Total_Stops  \\\n",
       "0               BLR ? DEL    22:20  01:10 22 Mar   2h 50m    non-stop   \n",
       "1   CCU ? IXR ? BBI ? BLR    05:50         13:15   7h 25m     2 stops   \n",
       "2   DEL ? LKO ? BOM ? COK    09:25  04:25 10 Jun      19h     2 stops   \n",
       "3         CCU ? NAG ? BLR    18:05         23:30   5h 25m      1 stop   \n",
       "4         BLR ? NAG ? DEL    16:50         21:35   4h 45m      1 stop   \n",
       "5               CCU ? BLR    09:00         11:25   2h 25m    non-stop   \n",
       "6         BLR ? BOM ? DEL    18:55  10:25 13 Mar  15h 30m      1 stop   \n",
       "7         BLR ? BOM ? DEL    08:00  05:05 02 Mar   21h 5m      1 stop   \n",
       "8         BLR ? BOM ? DEL    08:55  10:25 13 Mar  25h 30m      1 stop   \n",
       "9         DEL ? BOM ? COK    11:25         19:15   7h 50m      1 stop   \n",
       "10        DEL ? BLR ? COK    09:45         23:00  13h 15m      1 stop   \n",
       "11              CCU ? BLR    20:20         22:55   2h 35m    non-stop   \n",
       "12              MAA ? CCU    11:40         13:55   2h 15m    non-stop   \n",
       "13        CCU ? BOM ? BLR    21:10  09:20 10 May  12h 10m      1 stop   \n",
       "14              CCU ? BLR    17:15         19:50   2h 35m    non-stop   \n",
       "\n",
       "                Additional_Info  Price  \n",
       "0                       No info   3897  \n",
       "1                       No info   7662  \n",
       "2                       No info  13882  \n",
       "3                       No info   6218  \n",
       "4                       No info  13302  \n",
       "5                       No info   3873  \n",
       "6   In-flight meal not included  11087  \n",
       "7                       No info  22270  \n",
       "8   In-flight meal not included  11087  \n",
       "9                       No info   8625  \n",
       "10                      No info   8907  \n",
       "11                      No info   4174  \n",
       "12                      No info   4667  \n",
       "13  In-flight meal not included   9663  \n",
       "14                      No info   4804  "
      ]
     },
     "execution_count": 325,
     "metadata": {},
     "output_type": "execute_result"
    }
   ],
   "source": [
    "ou_df.head(15)"
   ]
  },
  {
   "cell_type": "code",
   "execution_count": 326,
   "id": "15d5396c",
   "metadata": {},
   "outputs": [
    {
     "data": {
      "text/html": [
       "<div>\n",
       "<style scoped>\n",
       "    .dataframe tbody tr th:only-of-type {\n",
       "        vertical-align: middle;\n",
       "    }\n",
       "\n",
       "    .dataframe tbody tr th {\n",
       "        vertical-align: top;\n",
       "    }\n",
       "\n",
       "    .dataframe thead th {\n",
       "        text-align: right;\n",
       "    }\n",
       "</style>\n",
       "<table border=\"1\" class=\"dataframe\">\n",
       "  <thead>\n",
       "    <tr style=\"text-align: right;\">\n",
       "      <th></th>\n",
       "      <th>Price</th>\n",
       "    </tr>\n",
       "  </thead>\n",
       "  <tbody>\n",
       "    <tr>\n",
       "      <th>count</th>\n",
       "      <td>10683.000000</td>\n",
       "    </tr>\n",
       "    <tr>\n",
       "      <th>mean</th>\n",
       "      <td>9087.064121</td>\n",
       "    </tr>\n",
       "    <tr>\n",
       "      <th>std</th>\n",
       "      <td>4611.359167</td>\n",
       "    </tr>\n",
       "    <tr>\n",
       "      <th>min</th>\n",
       "      <td>1759.000000</td>\n",
       "    </tr>\n",
       "    <tr>\n",
       "      <th>25%</th>\n",
       "      <td>5277.000000</td>\n",
       "    </tr>\n",
       "    <tr>\n",
       "      <th>50%</th>\n",
       "      <td>8372.000000</td>\n",
       "    </tr>\n",
       "    <tr>\n",
       "      <th>75%</th>\n",
       "      <td>12373.000000</td>\n",
       "    </tr>\n",
       "    <tr>\n",
       "      <th>max</th>\n",
       "      <td>79512.000000</td>\n",
       "    </tr>\n",
       "  </tbody>\n",
       "</table>\n",
       "</div>"
      ],
      "text/plain": [
       "              Price\n",
       "count  10683.000000\n",
       "mean    9087.064121\n",
       "std     4611.359167\n",
       "min     1759.000000\n",
       "25%     5277.000000\n",
       "50%     8372.000000\n",
       "75%    12373.000000\n",
       "max    79512.000000"
      ]
     },
     "execution_count": 326,
     "metadata": {},
     "output_type": "execute_result"
    }
   ],
   "source": [
    "ou_df.describe()"
   ]
  },
  {
   "cell_type": "code",
   "execution_count": 327,
   "id": "91d62e3a",
   "metadata": {},
   "outputs": [
    {
     "name": "stdout",
     "output_type": "stream",
     "text": [
      "<class 'pandas.core.frame.DataFrame'>\n",
      "RangeIndex: 10683 entries, 0 to 10682\n",
      "Data columns (total 11 columns):\n",
      " #   Column           Non-Null Count  Dtype \n",
      "---  ------           --------------  ----- \n",
      " 0   Airline          10683 non-null  object\n",
      " 1   Date_of_Journey  10683 non-null  object\n",
      " 2   Source           10683 non-null  object\n",
      " 3   Destination      10683 non-null  object\n",
      " 4   Route            10682 non-null  object\n",
      " 5   Dep_Time         10683 non-null  object\n",
      " 6   Arrival_Time     10683 non-null  object\n",
      " 7   Duration         10683 non-null  object\n",
      " 8   Total_Stops      10682 non-null  object\n",
      " 9   Additional_Info  10683 non-null  object\n",
      " 10  Price            10683 non-null  int64 \n",
      "dtypes: int64(1), object(10)\n",
      "memory usage: 918.2+ KB\n"
     ]
    }
   ],
   "source": [
    "ou_df.info()"
   ]
  },
  {
   "cell_type": "markdown",
   "id": "aa020411",
   "metadata": {},
   "source": [
    "# 1- Data Cleaning"
   ]
  },
  {
   "cell_type": "markdown",
   "id": "f4af2ba7",
   "metadata": {},
   "source": [
    "## Collecting Columns That Have Nan Values And Put It In The List"
   ]
  },
  {
   "cell_type": "code",
   "execution_count": 328,
   "id": "6a6a6385",
   "metadata": {},
   "outputs": [
    {
     "name": "stdout",
     "output_type": "stream",
     "text": [
      "Columns with NaN values: ['Route', 'Total_Stops']\n"
     ]
    }
   ],
   "source": [
    "nan_columns = ou_df.columns[ou_df.isna().any()].tolist()\n",
    "print(\"Columns with NaN values:\", nan_columns)"
   ]
  },
  {
   "cell_type": "markdown",
   "id": "b05e5b00",
   "metadata": {},
   "source": [
    "## Searching For The Row That Have Nan Values In The Data Set "
   ]
  },
  {
   "cell_type": "code",
   "execution_count": 329,
   "id": "153b674e",
   "metadata": {},
   "outputs": [
    {
     "data": {
      "text/html": [
       "<div>\n",
       "<style scoped>\n",
       "    .dataframe tbody tr th:only-of-type {\n",
       "        vertical-align: middle;\n",
       "    }\n",
       "\n",
       "    .dataframe tbody tr th {\n",
       "        vertical-align: top;\n",
       "    }\n",
       "\n",
       "    .dataframe thead th {\n",
       "        text-align: right;\n",
       "    }\n",
       "</style>\n",
       "<table border=\"1\" class=\"dataframe\">\n",
       "  <thead>\n",
       "    <tr style=\"text-align: right;\">\n",
       "      <th></th>\n",
       "      <th>Airline</th>\n",
       "      <th>Date_of_Journey</th>\n",
       "      <th>Source</th>\n",
       "      <th>Destination</th>\n",
       "      <th>Route</th>\n",
       "      <th>Dep_Time</th>\n",
       "      <th>Arrival_Time</th>\n",
       "      <th>Duration</th>\n",
       "      <th>Total_Stops</th>\n",
       "      <th>Additional_Info</th>\n",
       "      <th>Price</th>\n",
       "    </tr>\n",
       "  </thead>\n",
       "  <tbody>\n",
       "    <tr>\n",
       "      <th>9039</th>\n",
       "      <td>Air India</td>\n",
       "      <td>6/05/2019</td>\n",
       "      <td>Delhi</td>\n",
       "      <td>Cochin</td>\n",
       "      <td>NaN</td>\n",
       "      <td>09:45</td>\n",
       "      <td>09:25 07 May</td>\n",
       "      <td>23h 40m</td>\n",
       "      <td>NaN</td>\n",
       "      <td>No info</td>\n",
       "      <td>7480</td>\n",
       "    </tr>\n",
       "  </tbody>\n",
       "</table>\n",
       "</div>"
      ],
      "text/plain": [
       "        Airline Date_of_Journey Source Destination Route Dep_Time  \\\n",
       "9039  Air India       6/05/2019  Delhi      Cochin   NaN    09:45   \n",
       "\n",
       "      Arrival_Time Duration Total_Stops Additional_Info  Price  \n",
       "9039  09:25 07 May  23h 40m         NaN         No info   7480  "
      ]
     },
     "execution_count": 329,
     "metadata": {},
     "output_type": "execute_result"
    }
   ],
   "source": [
    "ou_df[ou_df['Route'].isnull()]"
   ]
  },
  {
   "cell_type": "markdown",
   "id": "80015310",
   "metadata": {},
   "source": [
    "## Dropping Row"
   ]
  },
  {
   "cell_type": "code",
   "execution_count": 330,
   "id": "927aff22",
   "metadata": {},
   "outputs": [],
   "source": [
    "ou_df.drop(ou_df.index[9039], inplace=True)"
   ]
  },
  {
   "cell_type": "code",
   "execution_count": 331,
   "id": "fc5c87e3",
   "metadata": {},
   "outputs": [
    {
     "name": "stdout",
     "output_type": "stream",
     "text": [
      "Columns with NaN values: []\n"
     ]
    }
   ],
   "source": [
    "nan_columns = ou_df.columns[ou_df.isna().any()].tolist()\n",
    "print(\"Columns with NaN values:\", nan_columns)"
   ]
  },
  {
   "cell_type": "markdown",
   "id": "dcb4a6ff",
   "metadata": {},
   "source": [
    "## Replacing "
   ]
  },
  {
   "cell_type": "code",
   "execution_count": 332,
   "id": "6881ce61",
   "metadata": {},
   "outputs": [],
   "source": [
    "ou_df['Route'] = ou_df['Route'].str.replace('?', '->')"
   ]
  },
  {
   "cell_type": "markdown",
   "id": "12f77b81",
   "metadata": {},
   "source": [
    "### Explaination\n",
    "1- Removing Months. <br>\n",
    "2- Taking Only Time Without Days. <br>\n",
    "3- Replacing it."
   ]
  },
  {
   "cell_type": "markdown",
   "id": "18a2ebe5",
   "metadata": {},
   "source": [
    "### Note: Setting a regex flag to false doesn't modify the match results."
   ]
  },
  {
   "cell_type": "code",
   "execution_count": 333,
   "id": "0d0f3dd0",
   "metadata": {},
   "outputs": [],
   "source": [
    "o= ou_df['Arrival_Time'].str.replace('^\\D+:', '', regex=True)\n",
    "N_Arrival_Time=[]\n",
    "for i in o:\n",
    "    N_Arrival_Time.append(i[0:5])   \n",
    "ou_df.insert(loc=7, column='N_Arrival_Time', value=N_Arrival_Time)\n",
    "ou_df = ou_df.drop(columns=['Arrival_Time'])"
   ]
  },
  {
   "cell_type": "code",
   "execution_count": 334,
   "id": "d654b90f",
   "metadata": {},
   "outputs": [],
   "source": [
    "ou_df.rename(columns={'N_Arrival_Time': 'Arrival_Time'}, inplace=True)"
   ]
  },
  {
   "cell_type": "markdown",
   "id": "191567e0",
   "metadata": {},
   "source": [
    "HOURS TO MINUTES"
   ]
  },
  {
   "cell_type": "code",
   "execution_count": 335,
   "id": "4dfcae46",
   "metadata": {},
   "outputs": [],
   "source": [
    "def hours_minutes_to_minutes(combined_time):\n",
    "    if len(str(combined_time))<3:\n",
    "        total_minutes=combined_time*60\n",
    "        return total_minutes\n",
    "    else:   \n",
    "        hours = combined_time // 100\n",
    "        minutes = combined_time % 100\n",
    "        total_minutes = hours * 60 + minutes\n",
    "        return total_minutes"
   ]
  },
  {
   "cell_type": "code",
   "execution_count": 336,
   "id": "df9fdc84",
   "metadata": {},
   "outputs": [],
   "source": [
    "H=ou_df['Duration'].str.replace('\\D+', '', regex=True)\n",
    "ll=[]\n",
    "for i in H:\n",
    "    ll.append(int(i))\n",
    "\n",
    "minutes=[]\n",
    "for i in ll:\n",
    "    o=hours_minutes_to_minutes(i)\n",
    "    minutes.append(o)    \n",
    "\n",
    "ou_df.insert(loc=7, column='Duration (Minutes)', value=minutes)\n",
    "ou_df = ou_df.drop(columns=['Duration'])"
   ]
  },
  {
   "cell_type": "code",
   "execution_count": 337,
   "id": "ec6f8d7e",
   "metadata": {},
   "outputs": [
    {
     "data": {
      "text/html": [
       "<div>\n",
       "<style scoped>\n",
       "    .dataframe tbody tr th:only-of-type {\n",
       "        vertical-align: middle;\n",
       "    }\n",
       "\n",
       "    .dataframe tbody tr th {\n",
       "        vertical-align: top;\n",
       "    }\n",
       "\n",
       "    .dataframe thead th {\n",
       "        text-align: right;\n",
       "    }\n",
       "</style>\n",
       "<table border=\"1\" class=\"dataframe\">\n",
       "  <thead>\n",
       "    <tr style=\"text-align: right;\">\n",
       "      <th></th>\n",
       "      <th>Airline</th>\n",
       "      <th>Date_of_Journey</th>\n",
       "      <th>Source</th>\n",
       "      <th>Destination</th>\n",
       "      <th>Route</th>\n",
       "      <th>Dep_Time</th>\n",
       "      <th>Arrival_Time</th>\n",
       "      <th>Duration (Minutes)</th>\n",
       "      <th>Total_Stops</th>\n",
       "      <th>Additional_Info</th>\n",
       "      <th>Price</th>\n",
       "    </tr>\n",
       "  </thead>\n",
       "  <tbody>\n",
       "    <tr>\n",
       "      <th>0</th>\n",
       "      <td>IndiGo</td>\n",
       "      <td>24/03/2019</td>\n",
       "      <td>Banglore</td>\n",
       "      <td>New Delhi</td>\n",
       "      <td>BLR -&gt; DEL</td>\n",
       "      <td>22:20</td>\n",
       "      <td>01:10</td>\n",
       "      <td>170</td>\n",
       "      <td>non-stop</td>\n",
       "      <td>No info</td>\n",
       "      <td>3897</td>\n",
       "    </tr>\n",
       "    <tr>\n",
       "      <th>1</th>\n",
       "      <td>Air India</td>\n",
       "      <td>1/05/2019</td>\n",
       "      <td>Kolkata</td>\n",
       "      <td>Banglore</td>\n",
       "      <td>CCU -&gt; IXR -&gt; BBI -&gt; BLR</td>\n",
       "      <td>05:50</td>\n",
       "      <td>13:15</td>\n",
       "      <td>445</td>\n",
       "      <td>2 stops</td>\n",
       "      <td>No info</td>\n",
       "      <td>7662</td>\n",
       "    </tr>\n",
       "    <tr>\n",
       "      <th>2</th>\n",
       "      <td>Jet Airways</td>\n",
       "      <td>9/06/2019</td>\n",
       "      <td>Delhi</td>\n",
       "      <td>Cochin</td>\n",
       "      <td>DEL -&gt; LKO -&gt; BOM -&gt; COK</td>\n",
       "      <td>09:25</td>\n",
       "      <td>04:25</td>\n",
       "      <td>1140</td>\n",
       "      <td>2 stops</td>\n",
       "      <td>No info</td>\n",
       "      <td>13882</td>\n",
       "    </tr>\n",
       "    <tr>\n",
       "      <th>3</th>\n",
       "      <td>IndiGo</td>\n",
       "      <td>12/05/2019</td>\n",
       "      <td>Kolkata</td>\n",
       "      <td>Banglore</td>\n",
       "      <td>CCU -&gt; NAG -&gt; BLR</td>\n",
       "      <td>18:05</td>\n",
       "      <td>23:30</td>\n",
       "      <td>325</td>\n",
       "      <td>1 stop</td>\n",
       "      <td>No info</td>\n",
       "      <td>6218</td>\n",
       "    </tr>\n",
       "    <tr>\n",
       "      <th>4</th>\n",
       "      <td>IndiGo</td>\n",
       "      <td>01/03/2019</td>\n",
       "      <td>Banglore</td>\n",
       "      <td>New Delhi</td>\n",
       "      <td>BLR -&gt; NAG -&gt; DEL</td>\n",
       "      <td>16:50</td>\n",
       "      <td>21:35</td>\n",
       "      <td>285</td>\n",
       "      <td>1 stop</td>\n",
       "      <td>No info</td>\n",
       "      <td>13302</td>\n",
       "    </tr>\n",
       "    <tr>\n",
       "      <th>5</th>\n",
       "      <td>SpiceJet</td>\n",
       "      <td>24/06/2019</td>\n",
       "      <td>Kolkata</td>\n",
       "      <td>Banglore</td>\n",
       "      <td>CCU -&gt; BLR</td>\n",
       "      <td>09:00</td>\n",
       "      <td>11:25</td>\n",
       "      <td>145</td>\n",
       "      <td>non-stop</td>\n",
       "      <td>No info</td>\n",
       "      <td>3873</td>\n",
       "    </tr>\n",
       "    <tr>\n",
       "      <th>6</th>\n",
       "      <td>Jet Airways</td>\n",
       "      <td>12/03/2019</td>\n",
       "      <td>Banglore</td>\n",
       "      <td>New Delhi</td>\n",
       "      <td>BLR -&gt; BOM -&gt; DEL</td>\n",
       "      <td>18:55</td>\n",
       "      <td>10:25</td>\n",
       "      <td>930</td>\n",
       "      <td>1 stop</td>\n",
       "      <td>In-flight meal not included</td>\n",
       "      <td>11087</td>\n",
       "    </tr>\n",
       "    <tr>\n",
       "      <th>7</th>\n",
       "      <td>Jet Airways</td>\n",
       "      <td>01/03/2019</td>\n",
       "      <td>Banglore</td>\n",
       "      <td>New Delhi</td>\n",
       "      <td>BLR -&gt; BOM -&gt; DEL</td>\n",
       "      <td>08:00</td>\n",
       "      <td>05:05</td>\n",
       "      <td>135</td>\n",
       "      <td>1 stop</td>\n",
       "      <td>No info</td>\n",
       "      <td>22270</td>\n",
       "    </tr>\n",
       "    <tr>\n",
       "      <th>8</th>\n",
       "      <td>Jet Airways</td>\n",
       "      <td>12/03/2019</td>\n",
       "      <td>Banglore</td>\n",
       "      <td>New Delhi</td>\n",
       "      <td>BLR -&gt; BOM -&gt; DEL</td>\n",
       "      <td>08:55</td>\n",
       "      <td>10:25</td>\n",
       "      <td>1530</td>\n",
       "      <td>1 stop</td>\n",
       "      <td>In-flight meal not included</td>\n",
       "      <td>11087</td>\n",
       "    </tr>\n",
       "    <tr>\n",
       "      <th>9</th>\n",
       "      <td>Multiple carriers</td>\n",
       "      <td>27/05/2019</td>\n",
       "      <td>Delhi</td>\n",
       "      <td>Cochin</td>\n",
       "      <td>DEL -&gt; BOM -&gt; COK</td>\n",
       "      <td>11:25</td>\n",
       "      <td>19:15</td>\n",
       "      <td>470</td>\n",
       "      <td>1 stop</td>\n",
       "      <td>No info</td>\n",
       "      <td>8625</td>\n",
       "    </tr>\n",
       "    <tr>\n",
       "      <th>10</th>\n",
       "      <td>Air India</td>\n",
       "      <td>1/06/2019</td>\n",
       "      <td>Delhi</td>\n",
       "      <td>Cochin</td>\n",
       "      <td>DEL -&gt; BLR -&gt; COK</td>\n",
       "      <td>09:45</td>\n",
       "      <td>23:00</td>\n",
       "      <td>795</td>\n",
       "      <td>1 stop</td>\n",
       "      <td>No info</td>\n",
       "      <td>8907</td>\n",
       "    </tr>\n",
       "    <tr>\n",
       "      <th>11</th>\n",
       "      <td>IndiGo</td>\n",
       "      <td>18/04/2019</td>\n",
       "      <td>Kolkata</td>\n",
       "      <td>Banglore</td>\n",
       "      <td>CCU -&gt; BLR</td>\n",
       "      <td>20:20</td>\n",
       "      <td>22:55</td>\n",
       "      <td>155</td>\n",
       "      <td>non-stop</td>\n",
       "      <td>No info</td>\n",
       "      <td>4174</td>\n",
       "    </tr>\n",
       "    <tr>\n",
       "      <th>12</th>\n",
       "      <td>Air India</td>\n",
       "      <td>24/06/2019</td>\n",
       "      <td>Chennai</td>\n",
       "      <td>Kolkata</td>\n",
       "      <td>MAA -&gt; CCU</td>\n",
       "      <td>11:40</td>\n",
       "      <td>13:55</td>\n",
       "      <td>135</td>\n",
       "      <td>non-stop</td>\n",
       "      <td>No info</td>\n",
       "      <td>4667</td>\n",
       "    </tr>\n",
       "    <tr>\n",
       "      <th>13</th>\n",
       "      <td>Jet Airways</td>\n",
       "      <td>9/05/2019</td>\n",
       "      <td>Kolkata</td>\n",
       "      <td>Banglore</td>\n",
       "      <td>CCU -&gt; BOM -&gt; BLR</td>\n",
       "      <td>21:10</td>\n",
       "      <td>09:20</td>\n",
       "      <td>730</td>\n",
       "      <td>1 stop</td>\n",
       "      <td>In-flight meal not included</td>\n",
       "      <td>9663</td>\n",
       "    </tr>\n",
       "    <tr>\n",
       "      <th>14</th>\n",
       "      <td>IndiGo</td>\n",
       "      <td>24/04/2019</td>\n",
       "      <td>Kolkata</td>\n",
       "      <td>Banglore</td>\n",
       "      <td>CCU -&gt; BLR</td>\n",
       "      <td>17:15</td>\n",
       "      <td>19:50</td>\n",
       "      <td>155</td>\n",
       "      <td>non-stop</td>\n",
       "      <td>No info</td>\n",
       "      <td>4804</td>\n",
       "    </tr>\n",
       "  </tbody>\n",
       "</table>\n",
       "</div>"
      ],
      "text/plain": [
       "              Airline Date_of_Journey    Source Destination  \\\n",
       "0              IndiGo      24/03/2019  Banglore   New Delhi   \n",
       "1           Air India       1/05/2019   Kolkata    Banglore   \n",
       "2         Jet Airways       9/06/2019     Delhi      Cochin   \n",
       "3              IndiGo      12/05/2019   Kolkata    Banglore   \n",
       "4              IndiGo      01/03/2019  Banglore   New Delhi   \n",
       "5            SpiceJet      24/06/2019   Kolkata    Banglore   \n",
       "6         Jet Airways      12/03/2019  Banglore   New Delhi   \n",
       "7         Jet Airways      01/03/2019  Banglore   New Delhi   \n",
       "8         Jet Airways      12/03/2019  Banglore   New Delhi   \n",
       "9   Multiple carriers      27/05/2019     Delhi      Cochin   \n",
       "10          Air India       1/06/2019     Delhi      Cochin   \n",
       "11             IndiGo      18/04/2019   Kolkata    Banglore   \n",
       "12          Air India      24/06/2019   Chennai     Kolkata   \n",
       "13        Jet Airways       9/05/2019   Kolkata    Banglore   \n",
       "14             IndiGo      24/04/2019   Kolkata    Banglore   \n",
       "\n",
       "                       Route Dep_Time Arrival_Time  Duration (Minutes)  \\\n",
       "0                 BLR -> DEL    22:20        01:10                 170   \n",
       "1   CCU -> IXR -> BBI -> BLR    05:50        13:15                 445   \n",
       "2   DEL -> LKO -> BOM -> COK    09:25        04:25                1140   \n",
       "3          CCU -> NAG -> BLR    18:05        23:30                 325   \n",
       "4          BLR -> NAG -> DEL    16:50        21:35                 285   \n",
       "5                 CCU -> BLR    09:00        11:25                 145   \n",
       "6          BLR -> BOM -> DEL    18:55        10:25                 930   \n",
       "7          BLR -> BOM -> DEL    08:00        05:05                 135   \n",
       "8          BLR -> BOM -> DEL    08:55        10:25                1530   \n",
       "9          DEL -> BOM -> COK    11:25        19:15                 470   \n",
       "10         DEL -> BLR -> COK    09:45        23:00                 795   \n",
       "11                CCU -> BLR    20:20        22:55                 155   \n",
       "12                MAA -> CCU    11:40        13:55                 135   \n",
       "13         CCU -> BOM -> BLR    21:10        09:20                 730   \n",
       "14                CCU -> BLR    17:15        19:50                 155   \n",
       "\n",
       "   Total_Stops              Additional_Info  Price  \n",
       "0     non-stop                      No info   3897  \n",
       "1      2 stops                      No info   7662  \n",
       "2      2 stops                      No info  13882  \n",
       "3       1 stop                      No info   6218  \n",
       "4       1 stop                      No info  13302  \n",
       "5     non-stop                      No info   3873  \n",
       "6       1 stop  In-flight meal not included  11087  \n",
       "7       1 stop                      No info  22270  \n",
       "8       1 stop  In-flight meal not included  11087  \n",
       "9       1 stop                      No info   8625  \n",
       "10      1 stop                      No info   8907  \n",
       "11    non-stop                      No info   4174  \n",
       "12    non-stop                      No info   4667  \n",
       "13      1 stop  In-flight meal not included   9663  \n",
       "14    non-stop                      No info   4804  "
      ]
     },
     "execution_count": 337,
     "metadata": {},
     "output_type": "execute_result"
    }
   ],
   "source": [
    "ou_df.head(15)"
   ]
  },
  {
   "cell_type": "code",
   "execution_count": 338,
   "id": "bcd9dc46",
   "metadata": {},
   "outputs": [
    {
     "data": {
      "text/plain": [
       "Airline\n",
       "Jet Airways                          3849\n",
       "IndiGo                               2053\n",
       "Air India                            1751\n",
       "Multiple carriers                    1196\n",
       "SpiceJet                              818\n",
       "Vistara                               479\n",
       "Air Asia                              319\n",
       "GoAir                                 194\n",
       "Multiple carriers Premium economy      13\n",
       "Jet Airways Business                    6\n",
       "Vistara Premium economy                 3\n",
       "Trujet                                  1\n",
       "Name: count, dtype: int64"
      ]
     },
     "execution_count": 338,
     "metadata": {},
     "output_type": "execute_result"
    }
   ],
   "source": [
    "ou_df['Airline'].value_counts()"
   ]
  },
  {
   "cell_type": "markdown",
   "id": "054c4ba5",
   "metadata": {},
   "source": [
    "## Numerical   "
   ]
  },
  {
   "cell_type": "code",
   "execution_count": 339,
   "id": "d28786ea",
   "metadata": {},
   "outputs": [
    {
     "name": "stdout",
     "output_type": "stream",
     "text": [
      "0        1\n",
      "1        2\n",
      "2        3\n",
      "3        1\n",
      "4        1\n",
      "        ..\n",
      "10678    8\n",
      "10679    2\n",
      "10680    3\n",
      "10681    7\n",
      "10682    2\n",
      "Name: Airline, Length: 10682, dtype: int64\n"
     ]
    }
   ],
   "source": [
    "uni=ou_df['Airline'].unique()\n",
    "i=0\n",
    "mapping = {v: (i:=i+1) for v in uni }\n",
    "ou_df['Airline'] = ou_df['Airline'].map(mapping)\n",
    "print(ou_df['Airline'])"
   ]
  },
  {
   "cell_type": "code",
   "execution_count": 340,
   "id": "ad9dc238",
   "metadata": {},
   "outputs": [
    {
     "data": {
      "text/plain": [
       "array(['IndiGo', 'Air India', 'Jet Airways', 'SpiceJet',\n",
       "       'Multiple carriers', 'GoAir', 'Vistara', 'Air Asia',\n",
       "       'Vistara Premium economy', 'Jet Airways Business',\n",
       "       'Multiple carriers Premium economy', 'Trujet'], dtype=object)"
      ]
     },
     "execution_count": 340,
     "metadata": {},
     "output_type": "execute_result"
    }
   ],
   "source": [
    "uni"
   ]
  },
  {
   "cell_type": "code",
   "execution_count": 341,
   "id": "42eca50c",
   "metadata": {},
   "outputs": [
    {
     "data": {
      "text/plain": [
       "Airline\n",
       "3     3849\n",
       "1     2053\n",
       "2     1751\n",
       "5     1196\n",
       "4      818\n",
       "7      479\n",
       "8      319\n",
       "6      194\n",
       "11      13\n",
       "10       6\n",
       "9        3\n",
       "12       1\n",
       "Name: count, dtype: int64"
      ]
     },
     "execution_count": 341,
     "metadata": {},
     "output_type": "execute_result"
    }
   ],
   "source": [
    "ou_df['Airline'].value_counts()"
   ]
  },
  {
   "cell_type": "code",
   "execution_count": 342,
   "id": "847499ff",
   "metadata": {},
   "outputs": [],
   "source": [
    "d= ou_df['Date_of_Journey'].str.replace('\\D+', '', regex=True)\n",
    "DDD=[]\n",
    "for i in d:\n",
    "    DDD.append(i)\n",
    "\n",
    "ou_df.insert(loc=1, column='DDD', value=DDD)\n",
    "ou_df = ou_df.drop(columns=['Date_of_Journey'])"
   ]
  },
  {
   "cell_type": "code",
   "execution_count": 343,
   "id": "dd13c298",
   "metadata": {},
   "outputs": [],
   "source": [
    "ou_df.rename(columns={'DDD': 'Date_of_Journey'}, inplace=True)"
   ]
  },
  {
   "cell_type": "code",
   "execution_count": 344,
   "id": "2bd158d1",
   "metadata": {},
   "outputs": [
    {
     "name": "stdout",
     "output_type": "stream",
     "text": [
      "0        1\n",
      "1        2\n",
      "2        3\n",
      "3        2\n",
      "4        1\n",
      "        ..\n",
      "10678    2\n",
      "10679    2\n",
      "10680    1\n",
      "10681    1\n",
      "10682    3\n",
      "Name: Source, Length: 10682, dtype: int64\n"
     ]
    }
   ],
   "source": [
    "sou=ou_df['Source'].unique()\n",
    "i=0\n",
    "mapping = {v: (i:=i+1) for v in sou }\n",
    "ou_df['Source'] = ou_df['Source'].map(mapping)\n",
    "print(ou_df['Source'])"
   ]
  },
  {
   "cell_type": "code",
   "execution_count": 345,
   "id": "6460f3c2",
   "metadata": {},
   "outputs": [
    {
     "name": "stdout",
     "output_type": "stream",
     "text": [
      "0        1\n",
      "1        2\n",
      "2        3\n",
      "3        2\n",
      "4        1\n",
      "        ..\n",
      "10678    2\n",
      "10679    2\n",
      "10680    5\n",
      "10681    1\n",
      "10682    3\n",
      "Name: Destination, Length: 10682, dtype: int64\n"
     ]
    }
   ],
   "source": [
    "des=ou_df['Destination'].unique()\n",
    "i=0\n",
    "mapping = {v: (i:=i+1) for v in des }\n",
    "ou_df['Destination'] = ou_df['Destination'].map(mapping)\n",
    "print(ou_df['Destination'])"
   ]
  },
  {
   "cell_type": "code",
   "execution_count": 346,
   "id": "1126ee32",
   "metadata": {},
   "outputs": [
    {
     "name": "stdout",
     "output_type": "stream",
     "text": [
      "0         1\n",
      "1         2\n",
      "2         3\n",
      "3         4\n",
      "4         5\n",
      "         ..\n",
      "10678     6\n",
      "10679     6\n",
      "10680     1\n",
      "10681     1\n",
      "10682    35\n",
      "Name: Route, Length: 10682, dtype: int64\n"
     ]
    }
   ],
   "source": [
    "rou=ou_df['Route'].unique()\n",
    "i=0\n",
    "mapping = {v: (i:=i+1) for v in rou }\n",
    "ou_df['Route'] = ou_df['Route'].map(mapping)\n",
    "print(ou_df['Route'])"
   ]
  },
  {
   "cell_type": "markdown",
   "id": "c128a115",
   "metadata": {},
   "source": [
    "### If the time is between 00:00 and 06:00, it's considered as 1.\n",
    "### If the time is between 06:01 and 12:00, it's considered as 2.\n",
    "### If the time is between 12:01 and 18:00, it's considered as 3.\n",
    "### If the time is between 18:01 and 24:00, it's considered as 4."
   ]
  },
  {
   "cell_type": "code",
   "execution_count": 347,
   "id": "5c07cdd2",
   "metadata": {},
   "outputs": [],
   "source": [
    "def map_time(time_str):\n",
    "    hour = int(time_str[:2])\n",
    "    minute = int(time_str[2:])\n",
    "\n",
    "    total_minutes = hour * 60 + minute\n",
    "\n",
    "    if 0 <= total_minutes <= 360: \n",
    "        return 1\n",
    "    elif 361 <= total_minutes <= 720: \n",
    "        return 2\n",
    "    elif 721 <= total_minutes <= 1080:  \n",
    "        return 3\n",
    "    elif 1081 <= total_minutes <= 1440:  \n",
    "        return 4\n",
    "    else:\n",
    "        return 5"
   ]
  },
  {
   "cell_type": "code",
   "execution_count": 348,
   "id": "30968409",
   "metadata": {},
   "outputs": [],
   "source": [
    "arr= ou_df['Arrival_Time'].replace('\\D+', '', regex=True)\n",
    "DD1=[]\n",
    "for i in arr:\n",
    "    DD1.append(map_time(i))\n",
    "\n",
    "ou_df.insert(loc=6, column='DD1', value=DD1)\n",
    "ou_df = ou_df.drop(columns=['Arrival_Time'])"
   ]
  },
  {
   "cell_type": "code",
   "execution_count": 349,
   "id": "5d06b44b",
   "metadata": {},
   "outputs": [],
   "source": [
    "ou_df.rename(columns={'DD1': 'Arrival_Time'}, inplace=True)"
   ]
  },
  {
   "cell_type": "code",
   "execution_count": 350,
   "id": "97c1d700",
   "metadata": {},
   "outputs": [],
   "source": [
    "dd= ou_df['Dep_Time'].replace('\\D+', '', regex=True)\n",
    "DD=[]\n",
    "for i in dd:\n",
    "    DD.append(map_time(i))\n",
    "\n",
    "ou_df.insert(loc=5, column='DD', value=DD)\n",
    "ou_df = ou_df.drop(columns=['Dep_Time'])"
   ]
  },
  {
   "cell_type": "code",
   "execution_count": 351,
   "id": "ea25de0a",
   "metadata": {},
   "outputs": [],
   "source": [
    "ou_df.rename(columns={'DD': 'Dep_Time'}, inplace=True)"
   ]
  },
  {
   "cell_type": "code",
   "execution_count": 352,
   "id": "d64e8e4f",
   "metadata": {},
   "outputs": [
    {
     "name": "stdout",
     "output_type": "stream",
     "text": [
      "0        1\n",
      "1        1\n",
      "2        1\n",
      "3        1\n",
      "4        1\n",
      "        ..\n",
      "10678    1\n",
      "10679    1\n",
      "10680    1\n",
      "10681    1\n",
      "10682    1\n",
      "Name: Additional_Info, Length: 10682, dtype: int64\n"
     ]
    }
   ],
   "source": [
    "info=ou_df['Additional_Info'].unique()\n",
    "i=0\n",
    "mapping = {v: (i:=i+1) for v in info }\n",
    "ou_df['Additional_Info'] = ou_df['Additional_Info'].map(mapping)\n",
    "print(ou_df['Additional_Info'])"
   ]
  },
  {
   "cell_type": "code",
   "execution_count": 353,
   "id": "a7860e93",
   "metadata": {},
   "outputs": [],
   "source": [
    "from datetime import datetime"
   ]
  },
  {
   "cell_type": "code",
   "execution_count": 354,
   "id": "ec381822",
   "metadata": {},
   "outputs": [],
   "source": [
    "ii=[]\n",
    "for i in ou_df['Date_of_Journey']:\n",
    "    date_obj = datetime.strptime(i, '%d%m%Y')\n",
    "    i=date_obj.strftime('%d%#m%Y')\n",
    "    ii.append(i)\n",
    "ou_df.insert(loc=1, column='DD', value=ii)\n",
    "ou_df = ou_df.drop(columns=['Date_of_Journey'])    "
   ]
  },
  {
   "cell_type": "code",
   "execution_count": 355,
   "id": "4a042699",
   "metadata": {},
   "outputs": [],
   "source": [
    "ou_df.rename(columns={'DD': 'Date_of_Journey'}, inplace=True)"
   ]
  },
  {
   "cell_type": "code",
   "execution_count": 356,
   "id": "7ea6f247",
   "metadata": {},
   "outputs": [],
   "source": [
    "ou_df['Total_Stops']=ou_df['Total_Stops'].map({'non-stop':0,'1 stop':1,'2 stops':2,'3 stops':3,'4 stops':4})"
   ]
  },
  {
   "cell_type": "code",
   "execution_count": 357,
   "id": "8369a3ca",
   "metadata": {},
   "outputs": [
    {
     "data": {
      "text/html": [
       "<div>\n",
       "<style scoped>\n",
       "    .dataframe tbody tr th:only-of-type {\n",
       "        vertical-align: middle;\n",
       "    }\n",
       "\n",
       "    .dataframe tbody tr th {\n",
       "        vertical-align: top;\n",
       "    }\n",
       "\n",
       "    .dataframe thead th {\n",
       "        text-align: right;\n",
       "    }\n",
       "</style>\n",
       "<table border=\"1\" class=\"dataframe\">\n",
       "  <thead>\n",
       "    <tr style=\"text-align: right;\">\n",
       "      <th></th>\n",
       "      <th>Airline</th>\n",
       "      <th>Date_of_Journey</th>\n",
       "      <th>Source</th>\n",
       "      <th>Destination</th>\n",
       "      <th>Route</th>\n",
       "      <th>Dep_Time</th>\n",
       "      <th>Arrival_Time</th>\n",
       "      <th>Duration (Minutes)</th>\n",
       "      <th>Total_Stops</th>\n",
       "      <th>Additional_Info</th>\n",
       "      <th>Price</th>\n",
       "    </tr>\n",
       "  </thead>\n",
       "  <tbody>\n",
       "    <tr>\n",
       "      <th>0</th>\n",
       "      <td>1</td>\n",
       "      <td>2432019</td>\n",
       "      <td>1</td>\n",
       "      <td>1</td>\n",
       "      <td>1</td>\n",
       "      <td>4</td>\n",
       "      <td>1</td>\n",
       "      <td>170</td>\n",
       "      <td>0</td>\n",
       "      <td>1</td>\n",
       "      <td>3897</td>\n",
       "    </tr>\n",
       "    <tr>\n",
       "      <th>1</th>\n",
       "      <td>2</td>\n",
       "      <td>1052019</td>\n",
       "      <td>2</td>\n",
       "      <td>2</td>\n",
       "      <td>2</td>\n",
       "      <td>1</td>\n",
       "      <td>3</td>\n",
       "      <td>445</td>\n",
       "      <td>2</td>\n",
       "      <td>1</td>\n",
       "      <td>7662</td>\n",
       "    </tr>\n",
       "    <tr>\n",
       "      <th>2</th>\n",
       "      <td>3</td>\n",
       "      <td>0962019</td>\n",
       "      <td>3</td>\n",
       "      <td>3</td>\n",
       "      <td>3</td>\n",
       "      <td>2</td>\n",
       "      <td>1</td>\n",
       "      <td>1140</td>\n",
       "      <td>2</td>\n",
       "      <td>1</td>\n",
       "      <td>13882</td>\n",
       "    </tr>\n",
       "    <tr>\n",
       "      <th>3</th>\n",
       "      <td>1</td>\n",
       "      <td>1252019</td>\n",
       "      <td>2</td>\n",
       "      <td>2</td>\n",
       "      <td>4</td>\n",
       "      <td>4</td>\n",
       "      <td>4</td>\n",
       "      <td>325</td>\n",
       "      <td>1</td>\n",
       "      <td>1</td>\n",
       "      <td>6218</td>\n",
       "    </tr>\n",
       "    <tr>\n",
       "      <th>4</th>\n",
       "      <td>1</td>\n",
       "      <td>0132019</td>\n",
       "      <td>1</td>\n",
       "      <td>1</td>\n",
       "      <td>5</td>\n",
       "      <td>3</td>\n",
       "      <td>4</td>\n",
       "      <td>285</td>\n",
       "      <td>1</td>\n",
       "      <td>1</td>\n",
       "      <td>13302</td>\n",
       "    </tr>\n",
       "    <tr>\n",
       "      <th>5</th>\n",
       "      <td>4</td>\n",
       "      <td>2462019</td>\n",
       "      <td>2</td>\n",
       "      <td>2</td>\n",
       "      <td>6</td>\n",
       "      <td>2</td>\n",
       "      <td>2</td>\n",
       "      <td>145</td>\n",
       "      <td>0</td>\n",
       "      <td>1</td>\n",
       "      <td>3873</td>\n",
       "    </tr>\n",
       "    <tr>\n",
       "      <th>6</th>\n",
       "      <td>3</td>\n",
       "      <td>1232019</td>\n",
       "      <td>1</td>\n",
       "      <td>1</td>\n",
       "      <td>7</td>\n",
       "      <td>4</td>\n",
       "      <td>2</td>\n",
       "      <td>930</td>\n",
       "      <td>1</td>\n",
       "      <td>2</td>\n",
       "      <td>11087</td>\n",
       "    </tr>\n",
       "    <tr>\n",
       "      <th>7</th>\n",
       "      <td>3</td>\n",
       "      <td>0132019</td>\n",
       "      <td>1</td>\n",
       "      <td>1</td>\n",
       "      <td>7</td>\n",
       "      <td>2</td>\n",
       "      <td>1</td>\n",
       "      <td>135</td>\n",
       "      <td>1</td>\n",
       "      <td>1</td>\n",
       "      <td>22270</td>\n",
       "    </tr>\n",
       "    <tr>\n",
       "      <th>8</th>\n",
       "      <td>3</td>\n",
       "      <td>1232019</td>\n",
       "      <td>1</td>\n",
       "      <td>1</td>\n",
       "      <td>7</td>\n",
       "      <td>2</td>\n",
       "      <td>2</td>\n",
       "      <td>1530</td>\n",
       "      <td>1</td>\n",
       "      <td>2</td>\n",
       "      <td>11087</td>\n",
       "    </tr>\n",
       "    <tr>\n",
       "      <th>9</th>\n",
       "      <td>5</td>\n",
       "      <td>2752019</td>\n",
       "      <td>3</td>\n",
       "      <td>3</td>\n",
       "      <td>8</td>\n",
       "      <td>2</td>\n",
       "      <td>4</td>\n",
       "      <td>470</td>\n",
       "      <td>1</td>\n",
       "      <td>1</td>\n",
       "      <td>8625</td>\n",
       "    </tr>\n",
       "    <tr>\n",
       "      <th>10</th>\n",
       "      <td>2</td>\n",
       "      <td>1062019</td>\n",
       "      <td>3</td>\n",
       "      <td>3</td>\n",
       "      <td>9</td>\n",
       "      <td>2</td>\n",
       "      <td>4</td>\n",
       "      <td>795</td>\n",
       "      <td>1</td>\n",
       "      <td>1</td>\n",
       "      <td>8907</td>\n",
       "    </tr>\n",
       "    <tr>\n",
       "      <th>11</th>\n",
       "      <td>1</td>\n",
       "      <td>1842019</td>\n",
       "      <td>2</td>\n",
       "      <td>2</td>\n",
       "      <td>6</td>\n",
       "      <td>4</td>\n",
       "      <td>4</td>\n",
       "      <td>155</td>\n",
       "      <td>0</td>\n",
       "      <td>1</td>\n",
       "      <td>4174</td>\n",
       "    </tr>\n",
       "    <tr>\n",
       "      <th>12</th>\n",
       "      <td>2</td>\n",
       "      <td>2462019</td>\n",
       "      <td>4</td>\n",
       "      <td>4</td>\n",
       "      <td>10</td>\n",
       "      <td>2</td>\n",
       "      <td>3</td>\n",
       "      <td>135</td>\n",
       "      <td>0</td>\n",
       "      <td>1</td>\n",
       "      <td>4667</td>\n",
       "    </tr>\n",
       "    <tr>\n",
       "      <th>13</th>\n",
       "      <td>3</td>\n",
       "      <td>0952019</td>\n",
       "      <td>2</td>\n",
       "      <td>2</td>\n",
       "      <td>11</td>\n",
       "      <td>4</td>\n",
       "      <td>2</td>\n",
       "      <td>730</td>\n",
       "      <td>1</td>\n",
       "      <td>2</td>\n",
       "      <td>9663</td>\n",
       "    </tr>\n",
       "    <tr>\n",
       "      <th>14</th>\n",
       "      <td>1</td>\n",
       "      <td>2442019</td>\n",
       "      <td>2</td>\n",
       "      <td>2</td>\n",
       "      <td>6</td>\n",
       "      <td>3</td>\n",
       "      <td>4</td>\n",
       "      <td>155</td>\n",
       "      <td>0</td>\n",
       "      <td>1</td>\n",
       "      <td>4804</td>\n",
       "    </tr>\n",
       "  </tbody>\n",
       "</table>\n",
       "</div>"
      ],
      "text/plain": [
       "    Airline Date_of_Journey  Source  Destination  Route  Dep_Time  \\\n",
       "0         1         2432019       1            1      1         4   \n",
       "1         2         1052019       2            2      2         1   \n",
       "2         3         0962019       3            3      3         2   \n",
       "3         1         1252019       2            2      4         4   \n",
       "4         1         0132019       1            1      5         3   \n",
       "5         4         2462019       2            2      6         2   \n",
       "6         3         1232019       1            1      7         4   \n",
       "7         3         0132019       1            1      7         2   \n",
       "8         3         1232019       1            1      7         2   \n",
       "9         5         2752019       3            3      8         2   \n",
       "10        2         1062019       3            3      9         2   \n",
       "11        1         1842019       2            2      6         4   \n",
       "12        2         2462019       4            4     10         2   \n",
       "13        3         0952019       2            2     11         4   \n",
       "14        1         2442019       2            2      6         3   \n",
       "\n",
       "    Arrival_Time  Duration (Minutes)  Total_Stops  Additional_Info  Price  \n",
       "0              1                 170            0                1   3897  \n",
       "1              3                 445            2                1   7662  \n",
       "2              1                1140            2                1  13882  \n",
       "3              4                 325            1                1   6218  \n",
       "4              4                 285            1                1  13302  \n",
       "5              2                 145            0                1   3873  \n",
       "6              2                 930            1                2  11087  \n",
       "7              1                 135            1                1  22270  \n",
       "8              2                1530            1                2  11087  \n",
       "9              4                 470            1                1   8625  \n",
       "10             4                 795            1                1   8907  \n",
       "11             4                 155            0                1   4174  \n",
       "12             3                 135            0                1   4667  \n",
       "13             2                 730            1                2   9663  \n",
       "14             4                 155            0                1   4804  "
      ]
     },
     "execution_count": 357,
     "metadata": {},
     "output_type": "execute_result"
    }
   ],
   "source": [
    "ou_df.head(15)"
   ]
  },
  {
   "cell_type": "markdown",
   "id": "157e1536",
   "metadata": {},
   "source": [
    "##  NORMALIZE "
   ]
  },
  {
   "cell_type": "markdown",
   "id": "17a1124d",
   "metadata": {},
   "source": [
    "### The Purpose Of Normalization: \n",
    "$\\;\\;\\;\\;\\;$ For Rescaling features to a standard scale."
   ]
  },
  {
   "cell_type": "code",
   "execution_count": 358,
   "id": "be1fa0e3",
   "metadata": {},
   "outputs": [],
   "source": [
    "from sklearn import preprocessing\n",
    "import numpy as np"
   ]
  },
  {
   "cell_type": "code",
   "execution_count": 359,
   "id": "bf1665b9",
   "metadata": {},
   "outputs": [],
   "source": [
    "arr_p=[]\n",
    "for z in ou_df:\n",
    "    arr = np.array(ou_df[z])\n",
    "    arr_p.append(arr)\n",
    "normalized_p = preprocessing.normalize(arr_p)"
   ]
  },
  {
   "cell_type": "code",
   "execution_count": 360,
   "id": "1ae63920",
   "metadata": {},
   "outputs": [
    {
     "data": {
      "text/plain": [
       "[array([1, 2, 3, ..., 3, 7, 2], dtype=int64),\n",
       " array(['2432019', '1052019', '0962019', ..., '2742019', '0132019',\n",
       "        '0952019'], dtype=object),\n",
       " array([1, 2, 3, ..., 1, 1, 3], dtype=int64),\n",
       " array([1, 2, 3, ..., 5, 1, 3], dtype=int64),\n",
       " array([ 1,  2,  3, ...,  1,  1, 35], dtype=int64),\n",
       " array([4, 1, 2, ..., 2, 2, 2], dtype=int64),\n",
       " array([1, 3, 1, ..., 2, 3, 4], dtype=int64),\n",
       " array([ 170,  445, 1140, ...,  180,  160,  500], dtype=int64),\n",
       " array([0, 2, 2, ..., 0, 0, 2], dtype=int64),\n",
       " array([1, 1, 1, ..., 1, 1, 1], dtype=int64),\n",
       " array([ 3897,  7662, 13882, ...,  7229, 12648, 11753], dtype=int64)]"
      ]
     },
     "execution_count": 360,
     "metadata": {},
     "output_type": "execute_result"
    }
   ],
   "source": [
    "arr_p"
   ]
  },
  {
   "cell_type": "code",
   "execution_count": 361,
   "id": "9ce6d093",
   "metadata": {},
   "outputs": [
    {
     "name": "stdout",
     "output_type": "stream",
     "text": [
      "[[0.0026715  0.00534299 0.00801449 ... 0.00801449 0.01870047 0.00534299]\n",
      " [0.0127296  0.00550645 0.00503537 ... 0.0143522  0.00069101 0.00498303]\n",
      " [0.00357998 0.00715996 0.01073993 ... 0.00357998 0.00357998 0.01073993]\n",
      " ...\n",
      " [0.         0.01816232 0.01816232 ... 0.         0.         0.01816232]\n",
      " [0.00694931 0.00694931 0.00694931 ... 0.00694931 0.00694931 0.00694931]\n",
      " [0.00370014 0.00727494 0.01318073 ... 0.00686382 0.01200907 0.01115928]]\n"
     ]
    }
   ],
   "source": [
    "print(normalized_p)"
   ]
  },
  {
   "cell_type": "markdown",
   "id": "6df03e62",
   "metadata": {},
   "source": [
    "# 2- Visualization"
   ]
  },
  {
   "cell_type": "code",
   "execution_count": 362,
   "id": "aafc88f5",
   "metadata": {},
   "outputs": [],
   "source": [
    "import matplotlib.pyplot as plt"
   ]
  },
  {
   "cell_type": "markdown",
   "id": "0a5977a0",
   "metadata": {},
   "source": [
    "## Histogram Of Airline Frequency"
   ]
  },
  {
   "cell_type": "code",
   "execution_count": 363,
   "id": "c36196f9",
   "metadata": {},
   "outputs": [
    {
     "data": {
      "image/png": "[encoded data removed]",
      "text/plain": [
       "<Figure size 3500x2000 with 1 Axes>"
      ]
     },
     "metadata": {},
     "output_type": "display_data"
    }
   ],
   "source": [
    "plt.figure(figsize=(35, 20))\n",
    "plt.hist(ou_df['Airline'],bins=13, edgecolor='black')\n",
    "x1=[]\n",
    "for s in range(len(uni)):\n",
    "    s=s+1\n",
    "    x1.append(s)\n",
    "plt.xticks(x1, labels=[['IndiGo'],['Air India'],['Jet Airways'],['SpiceJet'],['Multiple carriers'],['GoAir'],['Vistara'],['Air Asia'],['Vistara Premium economy'],['Jet Airways Business'],['Multiple carriers Premium economy'],['Trujet']])\n",
    "\n",
    "plt.title('Histogram Of Airline Frequency')\n",
    "plt.xlabel('Airline')\n",
    "plt.ylabel('Frequency')\n",
    "plt.grid(False)\n",
    "\n",
    "\n",
    "plt.show()\n"
   ]
  },
  {
   "cell_type": "markdown",
   "id": "616916a8",
   "metadata": {},
   "source": [
    "## Top 4 Airline Price's Mean"
   ]
  },
  {
   "cell_type": "markdown",
   "id": "98fa9fab",
   "metadata": {},
   "source": [
    "#### Interested In Airlines That Have More Than 1000 Freq In The Data Set"
   ]
  },
  {
   "cell_type": "code",
   "execution_count": 364,
   "id": "7a776853",
   "metadata": {},
   "outputs": [],
   "source": [
    "indiGo_prices = ou_df[ou_df['Airline'] == 1].groupby('Airline')['Price'].mean()\n",
    "JetAir_prices = ou_df[ou_df['Airline'] == 3].groupby('Airline')['Price'].mean()\n",
    "AirIndia_prices = ou_df[ou_df['Airline'] == 2].groupby('Airline')['Price'].mean()\n",
    "Multiplecarriers_prices = ou_df[ou_df['Airline'] == 5].groupby('Airline')['Price'].mean()"
   ]
  },
  {
   "cell_type": "code",
   "execution_count": 365,
   "id": "d6c7e8a3",
   "metadata": {},
   "outputs": [
    {
     "name": "stdout",
     "output_type": "stream",
     "text": [
      "Airline\n",
      "1    5673.682903\n",
      "Name: Price, dtype: float64\n",
      "Airline\n",
      "3    11643.923357\n",
      "Name: Price, dtype: float64\n",
      "Airline\n",
      "2    9612.427756\n",
      "Name: Price, dtype: float64\n",
      "Airline\n",
      "5    10902.678094\n",
      "Name: Price, dtype: float64\n"
     ]
    }
   ],
   "source": [
    "print(indiGo_prices)\n",
    "print(JetAir_prices)\n",
    "print(AirIndia_prices)\n",
    "print(Multiplecarriers_prices)"
   ]
  },
  {
   "cell_type": "code",
   "execution_count": 366,
   "id": "0e9552e4",
   "metadata": {},
   "outputs": [
    {
     "data": {
      "image/png": "[encoded data removed]",
      "text/plain": [
       "<Figure size 640x480 with 1 Axes>"
      ]
     },
     "metadata": {},
     "output_type": "display_data"
    }
   ],
   "source": [
    "Airline_l = ['Jet Airways','IndiGo','Air India','Multiple Carriers']\n",
    "Airline_M=[JetAir_prices,indiGo_prices,AirIndia_prices,Multiplecarriers_prices]\n",
    "fig,ax = plt.subplots()\n",
    "\n",
    "\n",
    "for i in range(4):\n",
    "    rects1 = ax.bar(Airline_l[i], Airline_M[i])\n",
    "\n",
    "ax.set_xlabel('Airline')\n",
    "ax.set_ylabel('Mean')\n",
    "ax.set_title(\"Top 4 Airline Price's Mean\")\n",
    "plt.show()"
   ]
  },
  {
   "cell_type": "markdown",
   "id": "d78924bd",
   "metadata": {},
   "source": [
    "# 3- Machine Learning\n",
    "## $\\;\\;\\;$ 'Random Forest Regression'"
   ]
  },
  {
   "attachments": {
    "Screenshot%202024-01-11%20173946.png": {
     "image/png": "[encoded data removed]"
    }
   },
   "cell_type": "markdown",
   "id": "7e0b4790",
   "metadata": {},
   "source": [
    "## Random Forest :\n",
    "Effective in reducing overfitting, suitable for <br>\n",
    "regression and classification tasks.<br>\n",
    "![Screenshot%202024-01-11%20173946.png](attachment:Screenshot%202024-01-11%20173946.png)"
   ]
  },
  {
   "cell_type": "code",
   "execution_count": 367,
   "id": "38830f92",
   "metadata": {},
   "outputs": [],
   "source": [
    "from sklearn.model_selection import train_test_split\n",
    "from sklearn.metrics import r2_score\n",
    "from sklearn.ensemble import RandomForestRegressor\n",
    "from sklearn.model_selection import cross_val_score\n",
    "from sklearn.model_selection import GridSearchCV"
   ]
  },
  {
   "cell_type": "code",
   "execution_count": 368,
   "id": "cdb79162",
   "metadata": {},
   "outputs": [],
   "source": [
    "X=ou_df[['Airline', 'Date_of_Journey', 'Source', 'Destination', 'Route','Dep_Time', 'Arrival_Time', 'Duration (Minutes)', 'Total_Stops', 'Additional_Info']]\n",
    "y = ou_df['Price']"
   ]
  },
  {
   "cell_type": "code",
   "execution_count": 369,
   "id": "24968b1a",
   "metadata": {},
   "outputs": [],
   "source": [
    "X_train, X_test, y_train, y_test = train_test_split(X, y, test_size=0.2)\n",
    "rf_model = RandomForestRegressor()\n",
    "\n",
    "rf_model.fit(X_train, y_train)\n",
    "\n",
    "\n",
    "y_pred = rf_model.predict(X_test)"
   ]
  },
  {
   "cell_type": "code",
   "execution_count": 370,
   "id": "80bab182",
   "metadata": {},
   "outputs": [],
   "source": [
    "feature_importance = rf_model.feature_importances_"
   ]
  },
  {
   "cell_type": "code",
   "execution_count": 371,
   "id": "013dcfb1",
   "metadata": {},
   "outputs": [
    {
     "data": {
      "text/plain": [
       "array([0.17711084, 0.20949376, 0.00759799, 0.01049288, 0.04956425,\n",
       "       0.01454519, 0.02115264, 0.06930004, 0.40826717, 0.03247524])"
      ]
     },
     "execution_count": 371,
     "metadata": {},
     "output_type": "execute_result"
    }
   ],
   "source": [
    "feature_importance"
   ]
  },
  {
   "cell_type": "code",
   "execution_count": 372,
   "id": "cefbacc5",
   "metadata": {},
   "outputs": [
    {
     "data": {
      "image/png": "[encoded data removed]",
      "text/plain": [
       "<Figure size 640x480 with 1 Axes>"
      ]
     },
     "metadata": {},
     "output_type": "display_data"
    }
   ],
   "source": [
    "plt.figure()\n",
    "plt.pie(feature_importance, labels=['Airline', 'Date_of_Journey', 'Source', 'Destination', 'Route','Dep_Time', 'Arrival_Time', 'Duration (Minutes)', 'Total_Stops', 'Additional_Info'], autopct='%1.1f%%')\n",
    "plt.title('Feature_Importance before')\n",
    "plt.show()"
   ]
  },
  {
   "cell_type": "code",
   "execution_count": 373,
   "id": "44db9d14",
   "metadata": {},
   "outputs": [],
   "source": [
    "ou_df = ou_df.drop(columns=['Source'])\n",
    "ou_df = ou_df.drop(columns=['Destination'])"
   ]
  },
  {
   "cell_type": "code",
   "execution_count": 386,
   "id": "0a527590",
   "metadata": {},
   "outputs": [
    {
     "data": {
      "text/html": [
       "<div>\n",
       "<style scoped>\n",
       "    .dataframe tbody tr th:only-of-type {\n",
       "        vertical-align: middle;\n",
       "    }\n",
       "\n",
       "    .dataframe tbody tr th {\n",
       "        vertical-align: top;\n",
       "    }\n",
       "\n",
       "    .dataframe thead th {\n",
       "        text-align: right;\n",
       "    }\n",
       "</style>\n",
       "<table border=\"1\" class=\"dataframe\">\n",
       "  <thead>\n",
       "    <tr style=\"text-align: right;\">\n",
       "      <th></th>\n",
       "      <th>Airline</th>\n",
       "      <th>Date_of_Journey</th>\n",
       "      <th>Route</th>\n",
       "      <th>Dep_Time</th>\n",
       "      <th>Arrival_Time</th>\n",
       "      <th>Duration (Minutes)</th>\n",
       "      <th>Total_Stops</th>\n",
       "      <th>Additional_Info</th>\n",
       "      <th>Price</th>\n",
       "    </tr>\n",
       "  </thead>\n",
       "  <tbody>\n",
       "    <tr>\n",
       "      <th>0</th>\n",
       "      <td>1</td>\n",
       "      <td>2432019</td>\n",
       "      <td>1</td>\n",
       "      <td>4</td>\n",
       "      <td>1</td>\n",
       "      <td>170</td>\n",
       "      <td>0</td>\n",
       "      <td>1</td>\n",
       "      <td>3897</td>\n",
       "    </tr>\n",
       "    <tr>\n",
       "      <th>1</th>\n",
       "      <td>2</td>\n",
       "      <td>1052019</td>\n",
       "      <td>2</td>\n",
       "      <td>1</td>\n",
       "      <td>3</td>\n",
       "      <td>445</td>\n",
       "      <td>2</td>\n",
       "      <td>1</td>\n",
       "      <td>7662</td>\n",
       "    </tr>\n",
       "    <tr>\n",
       "      <th>2</th>\n",
       "      <td>3</td>\n",
       "      <td>0962019</td>\n",
       "      <td>3</td>\n",
       "      <td>2</td>\n",
       "      <td>1</td>\n",
       "      <td>1140</td>\n",
       "      <td>2</td>\n",
       "      <td>1</td>\n",
       "      <td>13882</td>\n",
       "    </tr>\n",
       "    <tr>\n",
       "      <th>3</th>\n",
       "      <td>1</td>\n",
       "      <td>1252019</td>\n",
       "      <td>4</td>\n",
       "      <td>4</td>\n",
       "      <td>4</td>\n",
       "      <td>325</td>\n",
       "      <td>1</td>\n",
       "      <td>1</td>\n",
       "      <td>6218</td>\n",
       "    </tr>\n",
       "    <tr>\n",
       "      <th>4</th>\n",
       "      <td>1</td>\n",
       "      <td>0132019</td>\n",
       "      <td>5</td>\n",
       "      <td>3</td>\n",
       "      <td>4</td>\n",
       "      <td>285</td>\n",
       "      <td>1</td>\n",
       "      <td>1</td>\n",
       "      <td>13302</td>\n",
       "    </tr>\n",
       "    <tr>\n",
       "      <th>5</th>\n",
       "      <td>4</td>\n",
       "      <td>2462019</td>\n",
       "      <td>6</td>\n",
       "      <td>2</td>\n",
       "      <td>2</td>\n",
       "      <td>145</td>\n",
       "      <td>0</td>\n",
       "      <td>1</td>\n",
       "      <td>3873</td>\n",
       "    </tr>\n",
       "    <tr>\n",
       "      <th>6</th>\n",
       "      <td>3</td>\n",
       "      <td>1232019</td>\n",
       "      <td>7</td>\n",
       "      <td>4</td>\n",
       "      <td>2</td>\n",
       "      <td>930</td>\n",
       "      <td>1</td>\n",
       "      <td>2</td>\n",
       "      <td>11087</td>\n",
       "    </tr>\n",
       "    <tr>\n",
       "      <th>7</th>\n",
       "      <td>3</td>\n",
       "      <td>0132019</td>\n",
       "      <td>7</td>\n",
       "      <td>2</td>\n",
       "      <td>1</td>\n",
       "      <td>135</td>\n",
       "      <td>1</td>\n",
       "      <td>1</td>\n",
       "      <td>22270</td>\n",
       "    </tr>\n",
       "    <tr>\n",
       "      <th>8</th>\n",
       "      <td>3</td>\n",
       "      <td>1232019</td>\n",
       "      <td>7</td>\n",
       "      <td>2</td>\n",
       "      <td>2</td>\n",
       "      <td>1530</td>\n",
       "      <td>1</td>\n",
       "      <td>2</td>\n",
       "      <td>11087</td>\n",
       "    </tr>\n",
       "    <tr>\n",
       "      <th>9</th>\n",
       "      <td>5</td>\n",
       "      <td>2752019</td>\n",
       "      <td>8</td>\n",
       "      <td>2</td>\n",
       "      <td>4</td>\n",
       "      <td>470</td>\n",
       "      <td>1</td>\n",
       "      <td>1</td>\n",
       "      <td>8625</td>\n",
       "    </tr>\n",
       "    <tr>\n",
       "      <th>10</th>\n",
       "      <td>2</td>\n",
       "      <td>1062019</td>\n",
       "      <td>9</td>\n",
       "      <td>2</td>\n",
       "      <td>4</td>\n",
       "      <td>795</td>\n",
       "      <td>1</td>\n",
       "      <td>1</td>\n",
       "      <td>8907</td>\n",
       "    </tr>\n",
       "    <tr>\n",
       "      <th>11</th>\n",
       "      <td>1</td>\n",
       "      <td>1842019</td>\n",
       "      <td>6</td>\n",
       "      <td>4</td>\n",
       "      <td>4</td>\n",
       "      <td>155</td>\n",
       "      <td>0</td>\n",
       "      <td>1</td>\n",
       "      <td>4174</td>\n",
       "    </tr>\n",
       "    <tr>\n",
       "      <th>12</th>\n",
       "      <td>2</td>\n",
       "      <td>2462019</td>\n",
       "      <td>10</td>\n",
       "      <td>2</td>\n",
       "      <td>3</td>\n",
       "      <td>135</td>\n",
       "      <td>0</td>\n",
       "      <td>1</td>\n",
       "      <td>4667</td>\n",
       "    </tr>\n",
       "    <tr>\n",
       "      <th>13</th>\n",
       "      <td>3</td>\n",
       "      <td>0952019</td>\n",
       "      <td>11</td>\n",
       "      <td>4</td>\n",
       "      <td>2</td>\n",
       "      <td>730</td>\n",
       "      <td>1</td>\n",
       "      <td>2</td>\n",
       "      <td>9663</td>\n",
       "    </tr>\n",
       "    <tr>\n",
       "      <th>14</th>\n",
       "      <td>1</td>\n",
       "      <td>2442019</td>\n",
       "      <td>6</td>\n",
       "      <td>3</td>\n",
       "      <td>4</td>\n",
       "      <td>155</td>\n",
       "      <td>0</td>\n",
       "      <td>1</td>\n",
       "      <td>4804</td>\n",
       "    </tr>\n",
       "  </tbody>\n",
       "</table>\n",
       "</div>"
      ],
      "text/plain": [
       "    Airline Date_of_Journey  Route  Dep_Time  Arrival_Time  \\\n",
       "0         1         2432019      1         4             1   \n",
       "1         2         1052019      2         1             3   \n",
       "2         3         0962019      3         2             1   \n",
       "3         1         1252019      4         4             4   \n",
       "4         1         0132019      5         3             4   \n",
       "5         4         2462019      6         2             2   \n",
       "6         3         1232019      7         4             2   \n",
       "7         3         0132019      7         2             1   \n",
       "8         3         1232019      7         2             2   \n",
       "9         5         2752019      8         2             4   \n",
       "10        2         1062019      9         2             4   \n",
       "11        1         1842019      6         4             4   \n",
       "12        2         2462019     10         2             3   \n",
       "13        3         0952019     11         4             2   \n",
       "14        1         2442019      6         3             4   \n",
       "\n",
       "    Duration (Minutes)  Total_Stops  Additional_Info  Price  \n",
       "0                  170            0                1   3897  \n",
       "1                  445            2                1   7662  \n",
       "2                 1140            2                1  13882  \n",
       "3                  325            1                1   6218  \n",
       "4                  285            1                1  13302  \n",
       "5                  145            0                1   3873  \n",
       "6                  930            1                2  11087  \n",
       "7                  135            1                1  22270  \n",
       "8                 1530            1                2  11087  \n",
       "9                  470            1                1   8625  \n",
       "10                 795            1                1   8907  \n",
       "11                 155            0                1   4174  \n",
       "12                 135            0                1   4667  \n",
       "13                 730            1                2   9663  \n",
       "14                 155            0                1   4804  "
      ]
     },
     "execution_count": 386,
     "metadata": {},
     "output_type": "execute_result"
    }
   ],
   "source": [
    "ou_df.head(15)"
   ]
  },
  {
   "cell_type": "code",
   "execution_count": 374,
   "id": "9a23fdfb",
   "metadata": {},
   "outputs": [],
   "source": [
    "X=ou_df[['Airline', 'Date_of_Journey', 'Route','Dep_Time', 'Arrival_Time', 'Duration (Minutes)', 'Total_Stops', 'Additional_Info']]\n",
    "y = ou_df['Price']"
   ]
  },
  {
   "cell_type": "code",
   "execution_count": 375,
   "id": "3c2b1561",
   "metadata": {},
   "outputs": [],
   "source": [
    "X_train, X_test, y_train, y_test = train_test_split(X, y, test_size=0.2)\n",
    "rf_model = RandomForestRegressor()\n",
    "\n",
    "rf_model.fit(X_train, y_train)\n",
    "\n",
    "\n",
    "y_pred = rf_model.predict(X_test)\n"
   ]
  },
  {
   "cell_type": "code",
   "execution_count": 376,
   "id": "ff219c16",
   "metadata": {},
   "outputs": [],
   "source": [
    "feature_importance = rf_model.feature_importances_"
   ]
  },
  {
   "cell_type": "code",
   "execution_count": 377,
   "id": "849235af",
   "metadata": {},
   "outputs": [
    {
     "data": {
      "text/plain": [
       "array([0.1808102 , 0.21130609, 0.06760342, 0.01755979, 0.02208413,\n",
       "       0.07288219, 0.39468135, 0.03307284])"
      ]
     },
     "execution_count": 377,
     "metadata": {},
     "output_type": "execute_result"
    }
   ],
   "source": [
    "feature_importance"
   ]
  },
  {
   "cell_type": "code",
   "execution_count": 378,
   "id": "22a111f1",
   "metadata": {},
   "outputs": [
    {
     "data": {
      "image/png": "[encoded data removed]",
      "text/plain": [
       "<Figure size 640x480 with 1 Axes>"
      ]
     },
     "metadata": {},
     "output_type": "display_data"
    }
   ],
   "source": [
    "plt.figure()\n",
    "plt.pie(feature_importance, labels=['Airline', 'Date_of_Journey', 'Route','Dep_Time', 'Arrival_Time', 'Duration (Minutes)', 'Total_Stops', 'Additional_Info'], autopct='%1.1f%%')\n",
    "plt.title('Feature_Importance after')\n",
    "plt.show()"
   ]
  },
  {
   "cell_type": "code",
   "execution_count": 379,
   "id": "d72eda0c",
   "metadata": {},
   "outputs": [
    {
     "name": "stdout",
     "output_type": "stream",
     "text": [
      "R-squared: 0.8540558743387167\n"
     ]
    }
   ],
   "source": [
    "r2 = r2_score(y_test, y_pred)\n",
    "print(f'R-squared: {r2}')"
   ]
  },
  {
   "cell_type": "code",
   "execution_count": 391,
   "id": "60554300",
   "metadata": {},
   "outputs": [
    {
     "data": {
      "image/png": "[encoded data removed]",
      "text/plain": [
       "<Figure size 640x480 with 1 Axes>"
      ]
     },
     "metadata": {},
     "output_type": "display_data"
    }
   ],
   "source": [
    "plt.scatter(y_test, y_pred)\n",
    "plt.xlabel('Actual Prices')\n",
    "plt.ylabel('Predicted Prices')\n",
    "plt.title('Actual Prices vs Predicted Prices')\n",
    "plt.show()"
   ]
  },
  {
   "cell_type": "markdown",
   "id": "ee2e5161",
   "metadata": {},
   "source": [
    "## Cross Validation"
   ]
  },
  {
   "cell_type": "code",
   "execution_count": 381,
   "id": "a0dccc03",
   "metadata": {},
   "outputs": [],
   "source": [
    "cv_pred = cross_val_score(rf_model, X, y, cv=5, scoring='r2')"
   ]
  },
  {
   "cell_type": "code",
   "execution_count": 382,
   "id": "f856c9bd",
   "metadata": {},
   "outputs": [
    {
     "name": "stdout",
     "output_type": "stream",
     "text": [
      "[0.84842952 0.85166091 0.8922138  0.84798349 0.84772898]\n"
     ]
    }
   ],
   "source": [
    "print(cv_pred)"
   ]
  },
  {
   "cell_type": "markdown",
   "id": "9bd95c13",
   "metadata": {},
   "source": [
    "### The max_samples parameter determines the maximum number of samples used to train each base estimator (tree) in the Random Forest."
   ]
  },
  {
   "cell_type": "code",
   "execution_count": 383,
   "id": "67d9e29d",
   "metadata": {},
   "outputs": [
    {
     "name": "stdout",
     "output_type": "stream",
     "text": [
      "Fitting 5 folds for each of 7 candidates, totalling 35 fits\n",
      "[CV 1/5] END ...................max_samples=0.1;, score=0.823 total time=   1.3s\n",
      "[CV 2/5] END ...................max_samples=0.1;, score=0.791 total time=   1.5s\n",
      "[CV 3/5] END ...................max_samples=0.1;, score=0.761 total time=   1.5s\n",
      "[CV 4/5] END ...................max_samples=0.1;, score=0.741 total time=   1.5s\n",
      "[CV 5/5] END ...................max_samples=0.1;, score=0.793 total time=   1.5s\n",
      "[CV 1/5] END ....................max_samples=10;, score=0.458 total time=   0.2s\n",
      "[CV 2/5] END ....................max_samples=10;, score=0.401 total time=   0.2s\n",
      "[CV 3/5] END ....................max_samples=10;, score=0.365 total time=   0.2s\n",
      "[CV 4/5] END ....................max_samples=10;, score=0.379 total time=   0.2s\n",
      "[CV 5/5] END ....................max_samples=10;, score=0.406 total time=   0.2s\n",
      "[CV 1/5] END ....................max_samples=20;, score=0.523 total time=   0.2s\n",
      "[CV 2/5] END ....................max_samples=20;, score=0.493 total time=   0.2s\n",
      "[CV 3/5] END ....................max_samples=20;, score=0.450 total time=   0.2s\n",
      "[CV 4/5] END ....................max_samples=20;, score=0.444 total time=   0.2s\n",
      "[CV 5/5] END ....................max_samples=20;, score=0.487 total time=   0.2s\n",
      "[CV 1/5] END ....................max_samples=30;, score=0.572 total time=   0.3s\n",
      "[CV 2/5] END ....................max_samples=30;, score=0.546 total time=   0.3s\n",
      "[CV 3/5] END ....................max_samples=30;, score=0.491 total time=   0.3s\n",
      "[CV 4/5] END ....................max_samples=30;, score=0.463 total time=   0.3s\n",
      "[CV 5/5] END ....................max_samples=30;, score=0.539 total time=   0.3s\n",
      "[CV 1/5] END ...................max_samples=100;, score=0.704 total time=   0.5s\n",
      "[CV 2/5] END ...................max_samples=100;, score=0.646 total time=   0.4s\n",
      "[CV 3/5] END ...................max_samples=100;, score=0.622 total time=   0.4s\n",
      "[CV 4/5] END ...................max_samples=100;, score=0.595 total time=   0.4s\n",
      "[CV 5/5] END ...................max_samples=100;, score=0.686 total time=   0.4s\n",
      "[CV 1/5] END ..................max_samples=1000;, score=0.837 total time=   2.0s\n",
      "[CV 2/5] END ..................max_samples=1000;, score=0.805 total time=   2.0s\n",
      "[CV 3/5] END ..................max_samples=1000;, score=0.778 total time=   2.0s\n",
      "[CV 4/5] END ..................max_samples=1000;, score=0.752 total time=   1.9s\n",
      "[CV 5/5] END ..................max_samples=1000;, score=0.811 total time=   1.9s\n",
      "[CV 1/5] END ..................max_samples=5000;, score=0.866 total time=   5.6s\n",
      "[CV 2/5] END ..................max_samples=5000;, score=0.862 total time=   5.7s\n",
      "[CV 3/5] END ..................max_samples=5000;, score=0.843 total time=   5.7s\n",
      "[CV 4/5] END ..................max_samples=5000;, score=0.806 total time=   5.8s\n",
      "[CV 5/5] END ..................max_samples=5000;, score=0.851 total time=   5.7s\n"
     ]
    },
    {
     "data": {
      "text/html": [
       "<style>#sk-container-id-5 {color: black;}#sk-container-id-5 pre{padding: 0;}#sk-container-id-5 div.sk-toggleable {background-color: white;}#sk-container-id-5 label.sk-toggleable__label {cursor: pointer;display: block;width: 100%;margin-bottom: 0;padding: 0.3em;box-sizing: border-box;text-align: center;}#sk-container-id-5 label.sk-toggleable__label-arrow:before {content: \"▸\";float: left;margin-right: 0.25em;color: #696969;}#sk-container-id-5 label.sk-toggleable__label-arrow:hover:before {color: black;}#sk-container-id-5 div.sk-estimator:hover label.sk-toggleable__label-arrow:before {color: black;}#sk-container-id-5 div.sk-toggleable__content {max-height: 0;max-width: 0;overflow: hidden;text-align: left;background-color: #f0f8ff;}#sk-container-id-5 div.sk-toggleable__content pre {margin: 0.2em;color: black;border-radius: 0.25em;background-color: #f0f8ff;}#sk-container-id-5 input.sk-toggleable__control:checked~div.sk-toggleable__content {max-height: 200px;max-width: 100%;overflow: auto;}#sk-container-id-5 input.sk-toggleable__control:checked~label.sk-toggleable__label-arrow:before {content: \"▾\";}#sk-container-id-5 div.sk-estimator input.sk-toggleable__control:checked~label.sk-toggleable__label {background-color: #d4ebff;}#sk-container-id-5 div.sk-label input.sk-toggleable__control:checked~label.sk-toggleable__label {background-color: #d4ebff;}#sk-container-id-5 input.sk-hidden--visually {border: 0;clip: rect(1px 1px 1px 1px);clip: rect(1px, 1px, 1px, 1px);height: 1px;margin: -1px;overflow: hidden;padding: 0;position: absolute;width: 1px;}#sk-container-id-5 div.sk-estimator {font-family: monospace;background-color: #f0f8ff;border: 1px dotted black;border-radius: 0.25em;box-sizing: border-box;margin-bottom: 0.5em;}#sk-container-id-5 div.sk-estimator:hover {background-color: #d4ebff;}#sk-container-id-5 div.sk-parallel-item::after {content: \"\";width: 100%;border-bottom: 1px solid gray;flex-grow: 1;}#sk-container-id-5 div.sk-label:hover label.sk-toggleable__label {background-color: #d4ebff;}#sk-container-id-5 div.sk-serial::before {content: \"\";position: absolute;border-left: 1px solid gray;box-sizing: border-box;top: 0;bottom: 0;left: 50%;z-index: 0;}#sk-container-id-5 div.sk-serial {display: flex;flex-direction: column;align-items: center;background-color: white;padding-right: 0.2em;padding-left: 0.2em;position: relative;}#sk-container-id-5 div.sk-item {position: relative;z-index: 1;}#sk-container-id-5 div.sk-parallel {display: flex;align-items: stretch;justify-content: center;background-color: white;position: relative;}#sk-container-id-5 div.sk-item::before, #sk-container-id-5 div.sk-parallel-item::before {content: \"\";position: absolute;border-left: 1px solid gray;box-sizing: border-box;top: 0;bottom: 0;left: 50%;z-index: -1;}#sk-container-id-5 div.sk-parallel-item {display: flex;flex-direction: column;z-index: 1;position: relative;background-color: white;}#sk-container-id-5 div.sk-parallel-item:first-child::after {align-self: flex-end;width: 50%;}#sk-container-id-5 div.sk-parallel-item:last-child::after {align-self: flex-start;width: 50%;}#sk-container-id-5 div.sk-parallel-item:only-child::after {width: 0;}#sk-container-id-5 div.sk-dashed-wrapped {border: 1px dashed gray;margin: 0 0.4em 0.5em 0.4em;box-sizing: border-box;padding-bottom: 0.4em;background-color: white;}#sk-container-id-5 div.sk-label label {font-family: monospace;font-weight: bold;display: inline-block;line-height: 1.2em;}#sk-container-id-5 div.sk-label-container {text-align: center;}#sk-container-id-5 div.sk-container {/* jupyter's `normalize.less` sets `[hidden] { display: none; }` but bootstrap.min.css set `[hidden] { display: none !important; }` so we also need the `!important` here to be able to override the default hidden behavior on the sphinx rendered scikit-learn.org. See: https://github.com/scikit-learn/scikit-learn/issues/21755 */display: inline-block !important;position: relative;}#sk-container-id-5 div.sk-text-repr-fallback {display: none;}</style><div id=\"sk-container-id-5\" class=\"sk-top-container\"><div class=\"sk-text-repr-fallback\"><pre>GridSearchCV(cv=5, estimator=RandomForestRegressor(),\n",
       "             param_grid={&#x27;max_samples&#x27;: [0.1, 10, 20, 30, 100, 1000, 5000]},\n",
       "             scoring=&#x27;r2&#x27;, verbose=3)</pre><b>In a Jupyter environment, please rerun this cell to show the HTML representation or trust the notebook. <br />On GitHub, the HTML representation is unable to render, please try loading this page with nbviewer.org.</b></div><div class=\"sk-container\" hidden><div class=\"sk-item sk-dashed-wrapped\"><div class=\"sk-label-container\"><div class=\"sk-label sk-toggleable\"><input class=\"sk-toggleable__control sk-hidden--visually\" id=\"sk-estimator-id-13\" type=\"checkbox\" ><label for=\"sk-estimator-id-13\" class=\"sk-toggleable__label sk-toggleable__label-arrow\">GridSearchCV</label><div class=\"sk-toggleable__content\"><pre>GridSearchCV(cv=5, estimator=RandomForestRegressor(),\n",
       "             param_grid={&#x27;max_samples&#x27;: [0.1, 10, 20, 30, 100, 1000, 5000]},\n",
       "             scoring=&#x27;r2&#x27;, verbose=3)</pre></div></div></div><div class=\"sk-parallel\"><div class=\"sk-parallel-item\"><div class=\"sk-item\"><div class=\"sk-label-container\"><div class=\"sk-label sk-toggleable\"><input class=\"sk-toggleable__control sk-hidden--visually\" id=\"sk-estimator-id-14\" type=\"checkbox\" ><label for=\"sk-estimator-id-14\" class=\"sk-toggleable__label sk-toggleable__label-arrow\">estimator: RandomForestRegressor</label><div class=\"sk-toggleable__content\"><pre>RandomForestRegressor()</pre></div></div></div><div class=\"sk-serial\"><div class=\"sk-item\"><div class=\"sk-estimator sk-toggleable\"><input class=\"sk-toggleable__control sk-hidden--visually\" id=\"sk-estimator-id-15\" type=\"checkbox\" ><label for=\"sk-estimator-id-15\" class=\"sk-toggleable__label sk-toggleable__label-arrow\">RandomForestRegressor</label><div class=\"sk-toggleable__content\"><pre>RandomForestRegressor()</pre></div></div></div></div></div></div></div></div></div></div>"
      ],
      "text/plain": [
       "GridSearchCV(cv=5, estimator=RandomForestRegressor(),\n",
       "             param_grid={'max_samples': [0.1, 10, 20, 30, 100, 1000, 5000]},\n",
       "             scoring='r2', verbose=3)"
      ]
     },
     "execution_count": 383,
     "metadata": {},
     "output_type": "execute_result"
    }
   ],
   "source": [
    "param_grid = {'max_samples': [0.1, 10,20,30 ,100, 1000, 5000]}\n",
    "grid = GridSearchCV(rf_model, param_grid, verbose =3,cv=5,scoring='r2')\n",
    "grid.fit(X_train, y_train)"
   ]
  },
  {
   "cell_type": "code",
   "execution_count": 384,
   "id": "e79bb9d0",
   "metadata": {},
   "outputs": [
    {
     "name": "stdout",
     "output_type": "stream",
     "text": [
      "Best R-squared score: 0.8454814919034449\n"
     ]
    }
   ],
   "source": [
    "best_r2 = grid.best_score_\n",
    "print(\"Best R-squared score:\", best_r2)"
   ]
  },
  {
   "cell_type": "code",
   "execution_count": 385,
   "id": "3647edea",
   "metadata": {},
   "outputs": [
    {
     "name": "stdout",
     "output_type": "stream",
     "text": [
      "RandomForestRegressor(max_samples=5000)\n"
     ]
    }
   ],
   "source": [
    "print(grid.best_estimator_)"
   ]
  }
 ],
 "metadata": {
  "kernelspec": {
   "display_name": "Python 3 (ipykernel)",
   "language": "python",
   "name": "python3"
  },
  "language_info": {
   "codemirror_mode": {
    "name": "ipython",
    "version": 3
   },
   "file_extension": ".py",
   "mimetype": "text/x-python",
   "name": "python",
   "nbconvert_exporter": "python",
   "pygments_lexer": "ipython3",
   "version": "3.11.5"
  }
 },
 "nbformat": 4,
 "nbformat_minor": 5
}
